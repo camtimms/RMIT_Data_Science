{
 "cells": [
  {
   "cell_type": "code",
   "execution_count": 4,
   "id": "dceb4a1e",
   "metadata": {},
   "outputs": [
    {
     "data": {
      "application/vnd.jupyter.widget-view+json": {
       "model_id": "63376000287442de990f6c4810df43ce",
       "version_major": 2,
       "version_minor": 0
      },
      "text/plain": [
       "Processing:   0%|          | 0/10 [00:00<?, ?it/s]"
      ]
     },
     "metadata": {},
     "output_type": "display_data"
    }
   ],
   "source": [
    "from tqdm.notebook import tqdm  # Use tqdm.notebook for better compatibility in Jupyter\n",
    "import time\n",
    "\n",
    "for i in tqdm(range(10), desc=\"Processing\"):\n",
    "    time.sleep(0.5)  # Simulate work being done"
   ]
  },
  {
   "cell_type": "code",
   "execution_count": null,
   "id": "41d74a6e",
   "metadata": {},
   "outputs": [],
   "source": [
    "class SVDppWithProgress(SVDpp):\n",
    "    \"\"\"SVD++ class with progress tracking during training.\"\"\"\n",
    "\n",
    "    def fit(self, trainset):\n",
    "        \"\"\"Train the model on the provided trainset.\"\"\"\n",
    "        self.n_users = trainset.n_users\n",
    "        self.n_items = trainset.n_items\n",
    "        \n",
    "        # Initialize parameters using the parent's method\n",
    "        super().fit(trainset)  # Ensures parameters are initialized correctly\n",
    "\n",
    "        # Initialize progress tracking\n",
    "        for epoch in tqdm(range(self.n_epochs), desc='Training SVD++'):\n",
    "            for u in range(self.n_users):  # Iterate over users\n",
    "                # Perform a training step for each user\n",
    "                self._train_user(u, trainset)\n",
    "\n",
    "        return self  # Return the trained model for further use\n",
    "\n",
    "    def _train_user(self, u, trainset):\n",
    "        \"\"\"Perform a training step for user u.\"\"\"\n",
    "        # Retrieve the items rated by user u\n",
    "        rated_items = trainset.ur[u]  # Get the list of items rated by user u\n",
    "\n",
    "        # Implement your training logic here, such as gradient descent\n",
    "        for item_id, rating in rated_items:\n",
    "            # Example logic for updating parameters\n",
    "            self._update_parameters(u, item_id, rating)\n",
    "\n",
    "    def _update_parameters(self, u, item_id, rating):\n",
    "        \"\"\"Update model parameters based on the user-item rating.\"\"\"\n",
    "        # Implement your logic to update the model parameters here\n",
    "        # For example, you can update latent factors for users and items\n",
    "        pass"
   ]
  },
  {
   "cell_type": "code",
   "execution_count": null,
   "id": "0a0df03c",
   "metadata": {},
   "outputs": [],
   "source": [
    "# Prepare the Dataset for Surprise\n",
    "reader = Reader(rating_scale=(1, 5))\n",
    "train_data = Dataset.load_from_df(train_set[['UserID', 'MovieID', 'Rating']], reader)\n",
    "train_set_surprise = train_data.build_full_trainset()\n",
    "\n",
    "svdpp_model = SVDppWithProgress()  # Instantiate the custom model\n",
    "svdpp_model.fit(train_set_surprise)  # Train the model with progress tracking"
   ]
  },
  {
   "cell_type": "code",
   "execution_count": null,
   "id": "5179e2b2",
   "metadata": {},
   "outputs": [],
   "source": [
    "# Initialize and Train SVD++ Model\n",
    "svdpp = SVDpp()\n",
    "svdpp.fit(train_set_surprise)"
   ]
  }
 ],
 "metadata": {
  "kernelspec": {
   "display_name": "Python 3 (ipykernel)",
   "language": "python",
   "name": "python3"
  },
  "language_info": {
   "codemirror_mode": {
    "name": "ipython",
    "version": 3
   },
   "file_extension": ".py",
   "mimetype": "text/x-python",
   "name": "python",
   "nbconvert_exporter": "python",
   "pygments_lexer": "ipython3",
   "version": "3.10.9"
  }
 },
 "nbformat": 4,
 "nbformat_minor": 5
}
